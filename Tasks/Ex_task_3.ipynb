{
  "cells": [
    {
      "cell_type": "markdown",
      "metadata": {
        "id": "view-in-github",
        "colab_type": "text"
      },
      "source": [
        "<a href=\"https://colab.research.google.com/github/ArtemGuskov/University/blob/main/Tasks/Ex_task_3.ipynb\" target=\"_parent\"><img src=\"https://colab.research.google.com/assets/colab-badge.svg\" alt=\"Open In Colab\"/></a>"
      ]
    },
    {
      "cell_type": "markdown",
      "id": "bb332bf9",
      "metadata": {
        "id": "bb332bf9"
      },
      "source": [
        "# **Дополнительное задание №3. Обработка исключений и работа с текстовыми файлами**"
      ]
    },
    {
      "cell_type": "markdown",
      "id": "aa6808db",
      "metadata": {
        "id": "aa6808db"
      },
      "source": [
        "**БАЗА:**\n",
        "\n",
        "- **Обработка исключений** позволяет перехватывать и обрабатывать ошибки, возникающие при выполнении программы, предотвращая её аварийное завершение.\n",
        "- **Работа с файлами** - важный навык для чтения, записи и обработки текстовой информации в Python.\n",
        "\n",
        "---"
      ]
    },
    {
      "cell_type": "markdown",
      "id": "2478deca",
      "metadata": {
        "id": "2478deca"
      },
      "source": [
        "## **I. Обработка исключений**"
      ]
    },
    {
      "cell_type": "markdown",
      "id": "0ab0b851",
      "metadata": {
        "id": "0ab0b851"
      },
      "source": [
        "### **Пункт №1. Обработка некорректного индекса (IndexError)**"
      ]
    },
    {
      "cell_type": "markdown",
      "id": "46e69e1f",
      "metadata": {
        "id": "46e69e1f"
      },
      "source": [
        "Создайте список из нескольких элементов (например, [10, 20, 30]). Попросите пользователя ввести индекс элемента, который нужно вывести. Если пользователь введёт индекс, выходящий за границы списка, перехватите IndexError и сообщите об этом.\n",
        "\n",
        "**ОБЯЗАТЕЛЬНО:**\n",
        "- Создайте список из минимум 5 элементов\n",
        "- Покажите содержимое списка перед работой\n",
        "- Протестируйте минимум 4 случая (корректный индекс, отрицательный, слишком большой, нечисловое значение)"
      ]
    },
    {
      "cell_type": "code",
      "execution_count": 6,
      "id": "724c5954",
      "metadata": {
        "id": "724c5954",
        "colab": {
          "base_uri": "https://localhost:8080/"
        },
        "outputId": "661b890d-3b8b-4d40-af07-2ef190bdb3ad"
      },
      "outputs": [
        {
          "output_type": "stream",
          "name": "stdout",
          "text": [
            "0\n",
            "10\n"
          ]
        }
      ],
      "source": [
        "a = [10, 20, 30, 40, 50]\n",
        "try:\n",
        "  b = int(input())\n",
        "  elem = a[b]\n",
        "  print(elem)\n",
        "except IndexError:\n",
        "  print(f\"Ошибка: индекс {b} выходит за пределы списка\")\n",
        "except ValueError:\n",
        "  print(f\"Ошибка: индекс {b} является нечисловым значением\")"
      ]
    },
    {
      "cell_type": "code",
      "source": [
        "a = [10, 20, 30, 40, 50]\n",
        "try:\n",
        "  b = int(input())\n",
        "  elem = a[b]\n",
        "  print(elem)\n",
        "except IndexError:\n",
        "  print(f\"Ошибка: индекс {b} выходит за пределы списка\")\n",
        "except ValueError:\n",
        "  print(f\"Ошибка: индекс {b} является нечисловым значением\")"
      ],
      "metadata": {
        "colab": {
          "base_uri": "https://localhost:8080/"
        },
        "id": "8hVSJyYCwwyA",
        "outputId": "9322c055-485e-46cb-cb98-b211e91ec283"
      },
      "id": "8hVSJyYCwwyA",
      "execution_count": 7,
      "outputs": [
        {
          "output_type": "stream",
          "name": "stdout",
          "text": [
            "-2\n",
            "40\n"
          ]
        }
      ]
    },
    {
      "cell_type": "code",
      "source": [
        "a = [10, 20, 30, 40, 50]\n",
        "try:\n",
        "  b = int(input())\n",
        "  elem = a[b]\n",
        "  print(elem)\n",
        "except IndexError:\n",
        "  print(f\"Ошибка: индекс {b} выходит за пределы списка\")\n",
        "except ValueError:\n",
        "  print(f\"Ошибка: индекс {b} является нечисловым значением\")"
      ],
      "metadata": {
        "colab": {
          "base_uri": "https://localhost:8080/"
        },
        "id": "Q7myIbfDwwlA",
        "outputId": "e4f6cff3-8a74-4d5d-aa26-7a1ade67f8be"
      },
      "id": "Q7myIbfDwwlA",
      "execution_count": 8,
      "outputs": [
        {
          "output_type": "stream",
          "name": "stdout",
          "text": [
            "100\n",
            "Ошибка: индекс 100 выходит за пределы списка\n"
          ]
        }
      ]
    },
    {
      "cell_type": "code",
      "source": [
        "a = [10, 20, 30, 40, 50]\n",
        "try:\n",
        "  b = int(input())\n",
        "  elem = a[b]\n",
        "  print(elem)\n",
        "except IndexError:\n",
        "  print(f\"Ошибка: индекс {b} выходит за пределы списка\")\n",
        "except ValueError:\n",
        "  print(f\"Ошибка: индекс {b} является нечисловым значением\")"
      ],
      "metadata": {
        "colab": {
          "base_uri": "https://localhost:8080/"
        },
        "id": "2tt6xY7Nwv-s",
        "outputId": "65cf2142-6555-415e-9ffc-6a6c03ae76f1"
      },
      "id": "2tt6xY7Nwv-s",
      "execution_count": 9,
      "outputs": [
        {
          "output_type": "stream",
          "name": "stdout",
          "text": [
            "p\n",
            "Ошибка: индекс 100 является нечисловым значением\n"
          ]
        }
      ]
    },
    {
      "cell_type": "markdown",
      "id": "7ac84eec",
      "metadata": {
        "id": "7ac84eec"
      },
      "source": [
        "---"
      ]
    },
    {
      "cell_type": "markdown",
      "id": "f8bfb6e1",
      "metadata": {
        "id": "f8bfb6e1"
      },
      "source": [
        "### **Пункт №2. Обработка исключений в цикле**"
      ]
    },
    {
      "cell_type": "markdown",
      "id": "63c3b706",
      "metadata": {
        "id": "63c3b706"
      },
      "source": [
        "Напишите программу, которая запрашивает у пользователя числа и добавляет их в список.\n",
        "- Если пользователь вводит некорректные данные, программа должна выводить сообщение об ошибке и продолжать работу.\n",
        "- Для выхода из программы пользователь должен ввести \"стоп\".\n",
        "\n",
        "**ОБЯЗАТЕЛЬНО:**\n",
        "- Покажите процесс ввода минимум 7 значений (включая ошибочные)\n",
        "- Выведите финальный список и статистику (сколько чисел введено успешно, сколько ошибок)"
      ]
    },
    {
      "cell_type": "markdown",
      "source": [
        "\n",
        "\n",
        "```\n",
        "# Пример:\n",
        "# Введите число: 10\n",
        "# Введите число: текст (Ошибка: это не число)\n",
        "# Введите число: стоп\n",
        "# Итоговый список: [10]\n",
        "```\n",
        "\n"
      ],
      "metadata": {
        "id": "aiWaEPOuoHDS"
      },
      "id": "aiWaEPOuoHDS"
    },
    {
      "cell_type": "code",
      "execution_count": 11,
      "id": "31448e09",
      "metadata": {
        "id": "31448e09",
        "colab": {
          "base_uri": "https://localhost:8080/"
        },
        "outputId": "b63b8af6-ca0f-4430-8e02-f8b8e5496a6f"
      },
      "outputs": [
        {
          "output_type": "stream",
          "name": "stdout",
          "text": [
            "Введите число: 70\n",
            "Введите число: 20\n",
            "Введите число: 30\n",
            "Введите число: 77\n",
            "Введите число: vvv\n",
            "(Ошибка: это не число)\n",
            "Введите число: 0\n",
            "Введите число: 8\n",
            "Введите число: 3\n",
            "Введите число: fff\n",
            "(Ошибка: это не число)\n",
            "Введите число: hkk\n",
            "(Ошибка: это не число)\n",
            "Введите число: llfkf\n",
            "(Ошибка: это не число)\n",
            "Введите число: стоп\n",
            "Итоговый список: [70, 20, 30, 77, 0, 8, 3]\n",
            "Введено успешно: 7 чисел\n",
            "Ошибок: 4\n"
          ]
        }
      ],
      "source": [
        "chisla = []\n",
        "praviln = 0\n",
        "ne_praviln = 0\n",
        "while True:\n",
        "  a = input('Введите число: ').strip()\n",
        "  if a.lower() == 'стоп':\n",
        "    break\n",
        "  try:\n",
        "    nomer = int(a)\n",
        "    chisla.append(nomer)\n",
        "    praviln += 1\n",
        "  except ValueError:\n",
        "    ne_praviln += 1\n",
        "    print('(Ошибка: это не число)')\n",
        "print(f'Итоговый список: {chisla}')\n",
        "print(f'Введено успешно: {praviln} чисел')\n",
        "print(f'Ошибок: {ne_praviln}')"
      ]
    },
    {
      "cell_type": "markdown",
      "metadata": {
        "id": "Yv-FNYTEp0vV"
      },
      "source": [
        "---"
      ],
      "id": "Yv-FNYTEp0vV"
    },
    {
      "cell_type": "markdown",
      "id": "5971f85d",
      "metadata": {
        "id": "5971f85d"
      },
      "source": [
        "### **Пункт №3**"
      ]
    },
    {
      "cell_type": "markdown",
      "id": "b1457074",
      "metadata": {
        "id": "b1457074"
      },
      "source": [
        "Создайте функцию `get_list_element(lst, index)`, которая безопасно извлекает элемент списка по индексу с использованием блоков `try`, `except`, `else` и `finally`.\n",
        "\n",
        "Функция должна:\n",
        "- Обрабатывать выход за пределы списка\n",
        "- Обрабатывать некорректный тип индекса\n",
        "- Выводить сообщение о попытке доступа в блоке `finally`\n",
        "\n",
        "**ОБЯЗАТЕЛЬНО:**\n",
        "- Выведите результаты для минимум 4 различных случаев (успешный доступ, выход за границы, отрицательный индекс, нечисловой индекс)\n",
        "- Покажите, что блок `finally` выполняется всегда\n",
        "\n",
        "```python\n",
        "# Пример использования:\n",
        "my_list = [1, 2, 3, 4, 5]\n",
        "get_list_element(my_list, 2)   # Вывод: \"Элемент: 3\", \"Попытка доступа завершена\"\n",
        "get_list_element(my_list, 10)  # Вывод: \"Индекс вне диапазона\", \"Попытка доступа завершена\"\n",
        "```"
      ]
    },
    {
      "cell_type": "code",
      "execution_count": 12,
      "id": "1c067cf3",
      "metadata": {
        "id": "1c067cf3",
        "colab": {
          "base_uri": "https://localhost:8080/"
        },
        "outputId": "7c307faf-35c1-420b-dc8e-0b6280a99e9b"
      },
      "outputs": [
        {
          "output_type": "stream",
          "name": "stdout",
          "text": [
            "Элемент: 1\n",
            "Попытка доступа завершена\n"
          ]
        }
      ],
      "source": [
        "def get_list_element(lst,index):\n",
        "  try:\n",
        "    a = lst[index]\n",
        "  except IndexError:\n",
        "    print('Индекс вне диапазона, ')\n",
        "  except TypeError:\n",
        "    print('Индекс не является числом, ')\n",
        "  else:\n",
        "    print(f'Элемент: {a}')\n",
        "  finally:\n",
        "    print('Попытка доступа завершена')\n",
        "chisla = [1, 2, 3, 4, 5]\n",
        "get_list_element(chisla,0)"
      ]
    },
    {
      "cell_type": "code",
      "source": [
        "def get_list_element(lst,index):\n",
        "  try:\n",
        "    a = lst[index]\n",
        "  except IndexError:\n",
        "    print('Индекс вне диапазона, ')\n",
        "  except TypeError:\n",
        "    print('Индекс не является числом, ')\n",
        "  else:\n",
        "    print(f'Элемент: {a}')\n",
        "  finally:\n",
        "    print('Попытка доступа завершена')\n",
        "chisla = [1, 2, 3, 4, 5]\n",
        "get_list_element(chisla,11)"
      ],
      "metadata": {
        "colab": {
          "base_uri": "https://localhost:8080/"
        },
        "id": "VNODpKYv1-dB",
        "outputId": "8069cbf7-b3bb-48cb-a2ea-eecf8661acd5"
      },
      "id": "VNODpKYv1-dB",
      "execution_count": 13,
      "outputs": [
        {
          "output_type": "stream",
          "name": "stdout",
          "text": [
            "Индекс вне диапазона, \n",
            "Попытка доступа завершена\n"
          ]
        }
      ]
    },
    {
      "cell_type": "code",
      "source": [
        "def get_list_element(lst,index):\n",
        "  try:\n",
        "    a = lst[index]\n",
        "  except IndexError:\n",
        "    print('Индекс вне диапазона, ')\n",
        "  except TypeError:\n",
        "    print('Индекс не является числом, ')\n",
        "  else:\n",
        "    print(f'Элемент: {a}')\n",
        "  finally:\n",
        "    print('Попытка доступа завершена')\n",
        "chisla = [1, 2, 3, 4, 5]\n",
        "get_list_element(chisla,-3)"
      ],
      "metadata": {
        "colab": {
          "base_uri": "https://localhost:8080/"
        },
        "id": "jaAzraXw1-UX",
        "outputId": "18d67ab3-cc1b-470d-928b-9581ba1840da"
      },
      "id": "jaAzraXw1-UX",
      "execution_count": 14,
      "outputs": [
        {
          "output_type": "stream",
          "name": "stdout",
          "text": [
            "Элемент: 3\n",
            "Попытка доступа завершена\n"
          ]
        }
      ]
    },
    {
      "cell_type": "code",
      "source": [
        "def get_list_element(lst,index):\n",
        "  try:\n",
        "    a = lst[index]\n",
        "  except IndexError:\n",
        "    print('Индекс вне диапазона, ')\n",
        "  except TypeError:\n",
        "    print('Индекс не является числом, ')\n",
        "  else:\n",
        "    print(f'Элемент: {a}')\n",
        "  finally:\n",
        "    print('Попытка доступа завершена')\n",
        "chisla = [1, 2, 3, 4, 5]\n",
        "get_list_element(chisla,'не число')"
      ],
      "metadata": {
        "colab": {
          "base_uri": "https://localhost:8080/"
        },
        "id": "08ksU0Vi1-AV",
        "outputId": "69ff1451-0dd6-434a-f8ad-a2af82f52081"
      },
      "id": "08ksU0Vi1-AV",
      "execution_count": 17,
      "outputs": [
        {
          "output_type": "stream",
          "name": "stdout",
          "text": [
            "Индекс не является числом, \n",
            "Попытка доступа завершена\n"
          ]
        }
      ]
    },
    {
      "cell_type": "markdown",
      "id": "b5bb39c7",
      "metadata": {
        "id": "b5bb39c7"
      },
      "source": [
        "---"
      ]
    },
    {
      "cell_type": "markdown",
      "id": "b0972d59",
      "metadata": {
        "id": "b0972d59"
      },
      "source": [
        "## **II. Работа с текстовыми файлами**"
      ]
    },
    {
      "cell_type": "markdown",
      "id": "35729435",
      "metadata": {
        "id": "35729435"
      },
      "source": [
        "### **Пункт №1. Запись в файл**"
      ]
    },
    {
      "cell_type": "markdown",
      "id": "3121365f",
      "metadata": {
        "id": "3121365f"
      },
      "source": [
        "Напишите программу, которая запрашивает у пользователя строку и записывает её в файл output.txt в режиме дозаписи.\n",
        "\n",
        "**ОБЯЗАТЕЛЬНО:**\n",
        "- Запросите у пользователя минимум 3 строки\n",
        "- Покажите содержимое файла после записи"
      ]
    },
    {
      "cell_type": "code",
      "execution_count": 18,
      "id": "cbce6c5f",
      "metadata": {
        "id": "cbce6c5f",
        "colab": {
          "base_uri": "https://localhost:8080/"
        },
        "outputId": "d1d49a1c-1002-4af0-c656-b01faf93061f"
      },
      "outputs": [
        {
          "output_type": "stream",
          "name": "stdout",
          "text": [
            "Введите строку: МИИГАиК\n",
            "Введите строку: питон\n",
            "Введите строку: информатика\n",
            "Введите строку: лекция\n",
            "Введите строку: стоп\n",
            "МИИГАиК\n",
            "питон\n",
            "информатика\n",
            "лекция\n",
            "\n"
          ]
        }
      ],
      "source": [
        "with open('output.txt', 'a', encoding='utf-8') as file:\n",
        "    while True:\n",
        "        m = input(f\"Введите строку: \").strip()\n",
        "\n",
        "        if m.lower() == 'стоп':\n",
        "            break\n",
        "\n",
        "        file.write(m + '\\n')\n",
        "\n",
        "try:\n",
        "    with open('output.txt', 'r', encoding='utf-8') as file:\n",
        "        abs = file.read()\n",
        "        if abs:\n",
        "            print(abs)\n",
        "        else:\n",
        "            print(\"Файл пуст\")\n",
        "except FileNotFoundError:\n",
        "    print(\"Файл не найден\")"
      ]
    },
    {
      "cell_type": "markdown",
      "id": "361b3d2b",
      "metadata": {
        "id": "361b3d2b"
      },
      "source": [
        "---"
      ]
    },
    {
      "cell_type": "markdown",
      "id": "cce864b4",
      "metadata": {
        "id": "cce864b4"
      },
      "source": [
        "### **Пункт №2. Чтение из файла**"
      ]
    },
    {
      "cell_type": "markdown",
      "id": "4fc83b82",
      "metadata": {
        "id": "4fc83b82"
      },
      "source": [
        "Напишите программу, которая открывает файл output.txt и выводит его содержимое на экран.\n",
        "\n",
        "**ОБЯЗАТЕЛЬНО:**\n",
        "- Создайте файл с минимум 5 строками текста\n",
        "- Покажите содержимое файла целиком\n",
        "- Обработайте случай отсутствующего файла"
      ]
    },
    {
      "cell_type": "code",
      "execution_count": 22,
      "id": "df27a986",
      "metadata": {
        "id": "df27a986",
        "colab": {
          "base_uri": "https://localhost:8080/"
        },
        "outputId": "de9a72a1-6548-43a7-8961-7b1400460934"
      },
      "outputs": [
        {
          "output_type": "stream",
          "name": "stdout",
          "text": [
            "output\n",
            "МИИГАиК\n",
            "питон\n",
            "информатика\n",
            "лекция\n",
            "\n"
          ]
        }
      ],
      "source": [
        "fail = input()\n",
        "try:\n",
        "  with open(f'{fail}.txt', 'r', encoding='utf-8') as file:\n",
        "    a = file.read()\n",
        "    print(a)\n",
        "\n",
        "except FileNotFoundError:\n",
        "  print(f\"ОШИБКА: Файл '{fail}' не найден!\")"
      ]
    },
    {
      "cell_type": "code",
      "source": [
        "fail = input()\n",
        "try:\n",
        "  with open(f'{fail}.txt', 'r', encoding='utf-8') as file:\n",
        "    a = file.read()\n",
        "    print(a)\n",
        "\n",
        "except FileNotFoundError:\n",
        "  print(f\"ОШИБКА: Файл '{fail}' не найден!\")"
      ],
      "metadata": {
        "colab": {
          "base_uri": "https://localhost:8080/"
        },
        "id": "wl6PhFwc5chP",
        "outputId": "6591f3bd-cafd-4c98-9e71-d16dd8a44655"
      },
      "id": "wl6PhFwc5chP",
      "execution_count": 23,
      "outputs": [
        {
          "output_type": "stream",
          "name": "stdout",
          "text": [
            "бабуин\n",
            "ОШИБКА: Файл 'бабуин' не найден!\n"
          ]
        }
      ]
    },
    {
      "cell_type": "markdown",
      "id": "2be296a2",
      "metadata": {
        "id": "2be296a2"
      },
      "source": [
        "---"
      ]
    },
    {
      "cell_type": "markdown",
      "id": "045696ba",
      "metadata": {
        "id": "045696ba"
      },
      "source": [
        "### **Пункт №3. Подсчет строк в файле**"
      ]
    },
    {
      "cell_type": "markdown",
      "id": "570ac3e9",
      "metadata": {
        "id": "570ac3e9"
      },
      "source": [
        "Напишите программу, которая открывает файл output.txt и подсчитывает количество строк в нём.\n",
        "\n",
        "**ОБЯЗАТЕЛЬНО:**\n",
        "- Создайте тестовый файл с известным количеством строк (минимум 10)\n",
        "- Покажите первые 3 строки файла\n",
        "- Выведите общее количество строк\n",
        "- Выведите количество непустых строк"
      ]
    },
    {
      "cell_type": "code",
      "execution_count": 25,
      "id": "84aa205a",
      "metadata": {
        "id": "84aa205a",
        "colab": {
          "base_uri": "https://localhost:8080/"
        },
        "outputId": "77af54e7-2bf8-43f5-be8b-be7ac18818a8"
      },
      "outputs": [
        {
          "output_type": "stream",
          "name": "stdout",
          "text": [
            "МИИГАиК\n",
            "питон\n",
            "информатика\n",
            "Общее кол-во строк в файле: 5\n",
            "Кол-во непустых строк: 4\n"
          ]
        }
      ],
      "source": [
        "with open('output.txt', 'r', encoding='utf-8') as file:\n",
        "  kolv_str = file.readlines()\n",
        "  tri_str = file.readlines()[:3]\n",
        "  nepust_str = [x for x in kolv_str if x.strip()]\n",
        "  for i in range(3):\n",
        "    print(kolv_str[i].rstrip())\n",
        "  print(f\"Общее кол-во строк в файле: {len(kolv_str)+1}\")\n",
        "  print(f\"Кол-во непустых строк: {len(nepust_str)}\")"
      ]
    },
    {
      "cell_type": "markdown",
      "id": "94c6dcb0",
      "metadata": {
        "id": "94c6dcb0"
      },
      "source": [
        "---"
      ]
    },
    {
      "cell_type": "markdown",
      "id": "56f2a74e",
      "metadata": {
        "id": "56f2a74e"
      },
      "source": [
        "### **Пункт №4. Копирование содержимого файла**"
      ]
    },
    {
      "cell_type": "markdown",
      "id": "ed736046",
      "metadata": {
        "id": "ed736046"
      },
      "source": [
        "Напишите программу, которая копирует содержимое файла input.txt в файл output.txt.\n",
        "\n",
        "**ОБЯЗАТЕЛЬНО:**\n",
        "- Создайте исходный файл с тестовым содержимым (минимум 5 строк)\n",
        "- Покажите содержимое исходного файла\n",
        "- Выполните копирование\n",
        "- Покажите содержимое скопированного файла\n",
        "- Обработайте случай отсутствия исходного файла"
      ]
    },
    {
      "cell_type": "code",
      "execution_count": 31,
      "id": "31bd8a06",
      "metadata": {
        "id": "31bd8a06",
        "colab": {
          "base_uri": "https://localhost:8080/"
        },
        "outputId": "8f98ddc3-e387-410f-8782-5094da448a82"
      },
      "outputs": [
        {
          "output_type": "stream",
          "name": "stdout",
          "text": [
            "input\n",
            "1 строка\n",
            "2 строка\n",
            "3 строка\n",
            "4 строка\n",
            "5 строка\n",
            "\n",
            "МИИГАиК\n",
            "питон\n",
            "информатика\n",
            "лекция\n",
            "\n"
          ]
        }
      ],
      "source": [
        "a = input()\n",
        "try:\n",
        "  with open(f'{a}.txt', 'r', encoding='utf-8') as file:\n",
        "    m = file.read()\n",
        "    print(m)\n",
        "  with open('output.txt', 'r', encoding='utf-8') as file:\n",
        "    content = file.read()\n",
        "  with open('output.txt', 'a', encoding='utf-8') as file:\n",
        "    z = file.write(m)\n",
        "    print(content)\n",
        "except FileNotFoundError:\n",
        "  print('Файл не найден')"
      ]
    },
    {
      "cell_type": "code",
      "source": [
        "a = input()\n",
        "try:\n",
        "  with open(f'{a}.txt', 'r', encoding='utf-8') as file:\n",
        "    m = file.read()\n",
        "    print(m)\n",
        "  with open('output.txt', 'r', encoding='utf-8') as file:\n",
        "    content = file.read()\n",
        "  with open('output.txt', 'a', encoding='utf-8') as file:\n",
        "    z = file.write(m)\n",
        "    print(content)\n",
        "except FileNotFoundError:\n",
        "  print('Файл не найден')"
      ],
      "metadata": {
        "id": "ZyPFd9Uv_rpm",
        "outputId": "4933681a-c329-47d9-9c56-dad5519dadfc",
        "colab": {
          "base_uri": "https://localhost:8080/"
        }
      },
      "id": "ZyPFd9Uv_rpm",
      "execution_count": 32,
      "outputs": [
        {
          "output_type": "stream",
          "name": "stdout",
          "text": [
            "файл 1\n",
            "Файл не найден\n"
          ]
        }
      ]
    },
    {
      "cell_type": "markdown",
      "id": "2f7c8ee5",
      "metadata": {
        "id": "2f7c8ee5"
      },
      "source": [
        "---"
      ]
    },
    {
      "cell_type": "markdown",
      "id": "70ee398b",
      "metadata": {
        "id": "70ee398b"
      },
      "source": [
        "### **Пункт №5. Поиск слова в файле**"
      ]
    },
    {
      "cell_type": "markdown",
      "id": "c67f8987",
      "metadata": {
        "id": "c67f8987"
      },
      "source": [
        "Напишите программу, которая открывает файл output.txt и проверяет, содержится ли в нём слово, введённое пользователем.\n",
        "\n",
        "**ОБЯЗАТЕЛЬНО:**\n",
        "- Создайте файл с минимум 10 строками текста\n",
        "- Покажите содержимое файла\n",
        "- Протестируйте поиск минимум 5 различных слов\n",
        "- Выведите номера строк, где найдено слово\n",
        "- Покажите количество вхождений слова"
      ]
    },
    {
      "cell_type": "code",
      "execution_count": 2,
      "id": "d961bbf3",
      "metadata": {
        "id": "d961bbf3",
        "colab": {
          "base_uri": "https://localhost:8080/",
          "height": 219
        },
        "outputId": "df082de2-8024-4483-ca80-fd08c60ab283"
      },
      "outputs": [
        {
          "output_type": "error",
          "ename": "FileNotFoundError",
          "evalue": "[Errno 2] No such file or directory: 'output.txt'",
          "traceback": [
            "\u001b[0;31m---------------------------------------------------------------------------\u001b[0m",
            "\u001b[0;31mFileNotFoundError\u001b[0m                         Traceback (most recent call last)",
            "\u001b[0;32m/tmp/ipython-input-34886282.py\u001b[0m in \u001b[0;36m<cell line: 0>\u001b[0;34m()\u001b[0m\n\u001b[0;32m----> 1\u001b[0;31m \u001b[0;32mwith\u001b[0m \u001b[0mopen\u001b[0m\u001b[0;34m(\u001b[0m\u001b[0;34m'output.txt'\u001b[0m\u001b[0;34m,\u001b[0m \u001b[0;34m'r'\u001b[0m\u001b[0;34m,\u001b[0m \u001b[0mencoding\u001b[0m\u001b[0;34m=\u001b[0m\u001b[0;34m'utf-8'\u001b[0m\u001b[0;34m)\u001b[0m \u001b[0;32mas\u001b[0m \u001b[0mfile\u001b[0m\u001b[0;34m:\u001b[0m\u001b[0;34m\u001b[0m\u001b[0;34m\u001b[0m\u001b[0m\n\u001b[0m\u001b[1;32m      2\u001b[0m         \u001b[0mlines\u001b[0m \u001b[0;34m=\u001b[0m \u001b[0mfile\u001b[0m\u001b[0;34m.\u001b[0m\u001b[0mreadlines\u001b[0m\u001b[0;34m(\u001b[0m\u001b[0;34m)\u001b[0m\u001b[0;34m\u001b[0m\u001b[0;34m\u001b[0m\u001b[0m\n\u001b[1;32m      3\u001b[0m \u001b[0;32mtry\u001b[0m\u001b[0;34m:\u001b[0m\u001b[0;34m\u001b[0m\u001b[0;34m\u001b[0m\u001b[0m\n\u001b[1;32m      4\u001b[0m     \u001b[0;32mwith\u001b[0m \u001b[0mopen\u001b[0m\u001b[0;34m(\u001b[0m\u001b[0;34m'output.txt'\u001b[0m\u001b[0;34m,\u001b[0m \u001b[0;34m'r'\u001b[0m\u001b[0;34m,\u001b[0m \u001b[0mencoding\u001b[0m\u001b[0;34m=\u001b[0m\u001b[0;34m'utf-8'\u001b[0m\u001b[0;34m)\u001b[0m \u001b[0;32mas\u001b[0m \u001b[0mfile\u001b[0m\u001b[0;34m:\u001b[0m\u001b[0;34m\u001b[0m\u001b[0;34m\u001b[0m\u001b[0m\n\u001b[1;32m      5\u001b[0m         \u001b[0ma\u001b[0m \u001b[0;34m=\u001b[0m \u001b[0mfile\u001b[0m\u001b[0;34m.\u001b[0m\u001b[0mread\u001b[0m\u001b[0;34m(\u001b[0m\u001b[0;34m)\u001b[0m\u001b[0;34m\u001b[0m\u001b[0;34m\u001b[0m\u001b[0m\n",
            "\u001b[0;31mFileNotFoundError\u001b[0m: [Errno 2] No such file or directory: 'output.txt'"
          ]
        }
      ],
      "source": [
        "with open('output.txt', 'r', encoding='utf-8') as file:\n",
        "        lines = file.readlines()\n",
        "try:\n",
        "    with open('output.txt', 'r', encoding='utf-8') as file:\n",
        "        a = file.read()\n",
        "        print(a)\n",
        "except FileNotFoundError:\n",
        "    print(f\"Файл '{a}' не найден.\")\n",
        "\n",
        "h = input().split()\n",
        "\n",
        "for z in h:\n",
        "    found_line = []\n",
        "    count = 0\n",
        "    try:\n",
        "        with open('output.txt', 'r', encoding='utf-8') as file:\n",
        "            for nomer, line in enumerate(file, 1):\n",
        "                if z in line:\n",
        "                    found_line.append(nomer)\n",
        "                    count += line.count(z)\n",
        "\n",
        "        if found_line:\n",
        "            print(f\"Найдено в строках: {', '.join(map(str, found_line))}\")\n",
        "            print(f\"Количество вхождений: {count}\")\n",
        "        else:\n",
        "            print(\"Слово не найдено.\")\n",
        "\n",
        "    except FileNotFoundError:\n",
        "        print(f\"ОШИБКА: Файл не найден!\")"
      ]
    },
    {
      "cell_type": "markdown",
      "id": "8d69c77a",
      "metadata": {
        "id": "8d69c77a"
      },
      "source": [
        "---"
      ]
    },
    {
      "cell_type": "markdown",
      "id": "0079e067",
      "metadata": {
        "id": "0079e067"
      },
      "source": [
        "### **Пункт №6. Чтение файла с обработкой FileNotFoundError**"
      ]
    },
    {
      "cell_type": "markdown",
      "id": "c3d27312",
      "metadata": {
        "id": "c3d27312"
      },
      "source": [
        "Напишите программу, которая запрашивает у пользователя имя файла и пытается открыть его. Если файла не существует, перехватите FileNotFoundError и выведите сообщение «Файл не найден!».\n",
        "\n",
        "**ОБЯЗАТЕЛЬНО:**\n",
        "- Протестируйте с существующим файлом\n",
        "- Протестируйте с несуществующим файлом\n",
        "- Покажите содержимое существующего файла"
      ]
    },
    {
      "cell_type": "code",
      "execution_count": null,
      "id": "0c262bd2",
      "metadata": {
        "id": "0c262bd2"
      },
      "outputs": [],
      "source": [
        "# Ваш код и демонстрация работы"
      ]
    },
    {
      "cell_type": "markdown",
      "id": "c3258b46",
      "metadata": {
        "id": "c3258b46"
      },
      "source": [
        "---"
      ]
    },
    {
      "cell_type": "markdown",
      "id": "02e0767b",
      "metadata": {
        "id": "02e0767b"
      },
      "source": [
        "### **Пункт №7. Подсчет статистики файла**"
      ]
    },
    {
      "cell_type": "markdown",
      "id": "1c33b711",
      "metadata": {
        "id": "1c33b711"
      },
      "source": [
        "Напишите функцию `file_statistics(filename)`, которая читает текстовый файл и возвращает словарь со статистикой:\n",
        "- Количество строк\n",
        "- Количество слов\n",
        "- Количество символов (с пробелами и без)\n",
        "\n",
        "**ОБЯЗАТЕЛЬНО:**\n",
        "- Создайте тестовый файл с минимум 5 строками текста\n",
        "- Выведите содержимое файла ДО обработки\n",
        "- Выведите полученную статистику\n",
        "- Обработайте случай несуществующего файла\n",
        "\n",
        "```python\n",
        "# Создание тестового файла\n",
        "test_content = \"\"\"Первая строка текста\n",
        "Вторая строка с большим количеством слов\n",
        "Третья строка\n",
        "Четвертая строка для теста\n",
        "Пятая и последняя строка\"\"\"\n",
        "\n",
        "# Сохраните в файл и продемонстрируйте работу\n",
        "```"
      ]
    },
    {
      "cell_type": "code",
      "execution_count": null,
      "id": "43bfd6b8",
      "metadata": {
        "id": "43bfd6b8"
      },
      "outputs": [],
      "source": [
        "# Ваш код и демонстрация работы"
      ]
    },
    {
      "cell_type": "markdown",
      "id": "903281dd",
      "metadata": {
        "id": "903281dd"
      },
      "source": [
        "---"
      ]
    },
    {
      "cell_type": "markdown",
      "id": "ad8b4ae4",
      "metadata": {
        "id": "ad8b4ae4"
      },
      "source": [
        "### **Пункт №8. Поиск и замена в файле**"
      ]
    },
    {
      "cell_type": "markdown",
      "id": "e5230d0a",
      "metadata": {
        "id": "e5230d0a"
      },
      "source": [
        "Напишите функцию `replace_in_file(filename, old_text, new_text)`, которая заменяет все вхождения `old_text` на `new_text` в файле и сохраняет результат в новый файл с префиксом \"modified_\".\n",
        "\n",
        "**ОБЯЗАТЕЛЬНО:**\n",
        "- Создайте файл с текстом, содержащим минимум 3 вхождения заменяемого слова\n",
        "- Выведите содержимое файла ДО замены\n",
        "- Выполните замену\n",
        "- Выведите содержимое файла ПОСЛЕ замены\n",
        "- Покажите количество произведенных замен"
      ]
    },
    {
      "cell_type": "code",
      "execution_count": null,
      "id": "64a05e35",
      "metadata": {
        "id": "64a05e35"
      },
      "outputs": [],
      "source": [
        "# Ваш код и демонстрация работы"
      ]
    },
    {
      "cell_type": "markdown",
      "id": "f77b0568",
      "metadata": {
        "id": "f77b0568"
      },
      "source": [
        "---"
      ]
    },
    {
      "cell_type": "markdown",
      "id": "79a081b1",
      "metadata": {
        "id": "79a081b1"
      },
      "source": [
        "### **Пункт №9. Объединение файлов**"
      ]
    },
    {
      "cell_type": "markdown",
      "id": "599cee3c",
      "metadata": {
        "id": "599cee3c"
      },
      "source": [
        "Создайте функцию `merge_files(file_list, output_file)`, которая объединяет содержимое нескольких текстовых файлов в один, добавляя после каждого разделитель.\n",
        "\n",
        "**ОБЯЗАТЕЛЬНО:**\n",
        "- Создайте минимум 3 файла с разным содержимым\n",
        "- Выведите содержимое КАЖДОГО исходного файла\n",
        "- Выполните объединение\n",
        "- Выведите содержимое результирующего файла"
      ]
    },
    {
      "cell_type": "code",
      "execution_count": null,
      "id": "581b5868",
      "metadata": {
        "id": "581b5868"
      },
      "outputs": [],
      "source": [
        "# Ваш код и демонстрация работы"
      ]
    },
    {
      "cell_type": "markdown",
      "id": "eb866091",
      "metadata": {
        "id": "eb866091"
      },
      "source": [
        "---"
      ]
    }
  ],
  "metadata": {
    "colab": {
      "provenance": [],
      "include_colab_link": true
    },
    "language_info": {
      "name": "python"
    },
    "kernelspec": {
      "name": "python3",
      "display_name": "Python 3"
    }
  },
  "nbformat": 4,
  "nbformat_minor": 5
}