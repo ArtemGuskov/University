{
  "cells": [
    {
      "cell_type": "markdown",
      "metadata": {
        "id": "view-in-github",
        "colab_type": "text"
      },
      "source": [
        "<a href=\"https://colab.research.google.com/github/ArtemGuskov/University/blob/main/Tasks/Ex_task_3.ipynb\" target=\"_parent\"><img src=\"https://colab.research.google.com/assets/colab-badge.svg\" alt=\"Open In Colab\"/></a>"
      ]
    },
    {
      "cell_type": "markdown",
      "id": "bb332bf9",
      "metadata": {
        "id": "bb332bf9"
      },
      "source": [
        "# **Дополнительное задание №3. Обработка исключений и работа с текстовыми файлами**"
      ]
    },
    {
      "cell_type": "markdown",
      "id": "aa6808db",
      "metadata": {
        "id": "aa6808db"
      },
      "source": [
        "**БАЗА:**\n",
        "\n",
        "- **Обработка исключений** позволяет перехватывать и обрабатывать ошибки, возникающие при выполнении программы, предотвращая её аварийное завершение.\n",
        "- **Работа с файлами** - важный навык для чтения, записи и обработки текстовой информации в Python.\n",
        "\n",
        "---"
      ]
    },
    {
      "cell_type": "markdown",
      "id": "2478deca",
      "metadata": {
        "id": "2478deca"
      },
      "source": [
        "## **I. Обработка исключений**"
      ]
    },
    {
      "cell_type": "markdown",
      "id": "0ab0b851",
      "metadata": {
        "id": "0ab0b851"
      },
      "source": [
        "### **Пункт №1. Обработка некорректного индекса (IndexError)**"
      ]
    },
    {
      "cell_type": "markdown",
      "id": "46e69e1f",
      "metadata": {
        "id": "46e69e1f"
      },
      "source": [
        "Создайте список из нескольких элементов (например, [10, 20, 30]). Попросите пользователя ввести индекс элемента, который нужно вывести. Если пользователь введёт индекс, выходящий за границы списка, перехватите IndexError и сообщите об этом.\n",
        "\n",
        "**ОБЯЗАТЕЛЬНО:**\n",
        "- Создайте список из минимум 5 элементов\n",
        "- Покажите содержимое списка перед работой\n",
        "- Протестируйте минимум 4 случая (корректный индекс, отрицательный, слишком большой, нечисловое значение)"
      ]
    },
    {
      "cell_type": "code",
      "execution_count": null,
      "id": "724c5954",
      "metadata": {
        "id": "724c5954",
        "colab": {
          "base_uri": "https://localhost:8080/"
        },
        "outputId": "661b890d-3b8b-4d40-af07-2ef190bdb3ad"
      },
      "outputs": [
        {
          "output_type": "stream",
          "name": "stdout",
          "text": [
            "0\n",
            "10\n"
          ]
        }
      ],
      "source": [
        "a = [10, 20, 30, 40, 50]\n",
        "try:\n",
        "  b = int(input())\n",
        "  elem = a[b]\n",
        "  print(elem)\n",
        "except IndexError:\n",
        "  print(f\"Ошибка: индекс {b} выходит за пределы списка\")\n",
        "except ValueError:\n",
        "  print(f\"Ошибка: индекс {b} является нечисловым значением\")"
      ]
    },
    {
      "cell_type": "code",
      "source": [
        "a = [10, 20, 30, 40, 50]\n",
        "try:\n",
        "  b = int(input())\n",
        "  elem = a[b]\n",
        "  print(elem)\n",
        "except IndexError:\n",
        "  print(f\"Ошибка: индекс {b} выходит за пределы списка\")\n",
        "except ValueError:\n",
        "  print(f\"Ошибка: индекс {b} является нечисловым значением\")"
      ],
      "metadata": {
        "colab": {
          "base_uri": "https://localhost:8080/"
        },
        "id": "8hVSJyYCwwyA",
        "outputId": "9322c055-485e-46cb-cb98-b211e91ec283"
      },
      "id": "8hVSJyYCwwyA",
      "execution_count": null,
      "outputs": [
        {
          "output_type": "stream",
          "name": "stdout",
          "text": [
            "-2\n",
            "40\n"
          ]
        }
      ]
    },
    {
      "cell_type": "code",
      "source": [
        "a = [10, 20, 30, 40, 50]\n",
        "try:\n",
        "  b = int(input())\n",
        "  elem = a[b]\n",
        "  print(elem)\n",
        "except IndexError:\n",
        "  print(f\"Ошибка: индекс {b} выходит за пределы списка\")\n",
        "except ValueError:\n",
        "  print(f\"Ошибка: индекс {b} является нечисловым значением\")"
      ],
      "metadata": {
        "colab": {
          "base_uri": "https://localhost:8080/"
        },
        "id": "Q7myIbfDwwlA",
        "outputId": "e4f6cff3-8a74-4d5d-aa26-7a1ade67f8be"
      },
      "id": "Q7myIbfDwwlA",
      "execution_count": null,
      "outputs": [
        {
          "output_type": "stream",
          "name": "stdout",
          "text": [
            "100\n",
            "Ошибка: индекс 100 выходит за пределы списка\n"
          ]
        }
      ]
    },
    {
      "cell_type": "code",
      "source": [
        "a = [10, 20, 30, 40, 50]\n",
        "try:\n",
        "  b = int(input())\n",
        "  elem = a[b]\n",
        "  print(elem)\n",
        "except IndexError:\n",
        "  print(f\"Ошибка: индекс {b} выходит за пределы списка\")\n",
        "except ValueError:\n",
        "  print(f\"Ошибка: индекс {b} является нечисловым значением\")"
      ],
      "metadata": {
        "colab": {
          "base_uri": "https://localhost:8080/"
        },
        "id": "2tt6xY7Nwv-s",
        "outputId": "65cf2142-6555-415e-9ffc-6a6c03ae76f1"
      },
      "id": "2tt6xY7Nwv-s",
      "execution_count": null,
      "outputs": [
        {
          "output_type": "stream",
          "name": "stdout",
          "text": [
            "p\n",
            "Ошибка: индекс 100 является нечисловым значением\n"
          ]
        }
      ]
    },
    {
      "cell_type": "markdown",
      "id": "7ac84eec",
      "metadata": {
        "id": "7ac84eec"
      },
      "source": [
        "---"
      ]
    },
    {
      "cell_type": "markdown",
      "id": "f8bfb6e1",
      "metadata": {
        "id": "f8bfb6e1"
      },
      "source": [
        "### **Пункт №2. Обработка исключений в цикле**"
      ]
    },
    {
      "cell_type": "markdown",
      "id": "63c3b706",
      "metadata": {
        "id": "63c3b706"
      },
      "source": [
        "Напишите программу, которая запрашивает у пользователя числа и добавляет их в список.\n",
        "- Если пользователь вводит некорректные данные, программа должна выводить сообщение об ошибке и продолжать работу.\n",
        "- Для выхода из программы пользователь должен ввести \"стоп\".\n",
        "\n",
        "**ОБЯЗАТЕЛЬНО:**\n",
        "- Покажите процесс ввода минимум 7 значений (включая ошибочные)\n",
        "- Выведите финальный список и статистику (сколько чисел введено успешно, сколько ошибок)"
      ]
    },
    {
      "cell_type": "markdown",
      "source": [
        "\n",
        "\n",
        "```\n",
        "# Пример:\n",
        "# Введите число: 10\n",
        "# Введите число: текст (Ошибка: это не число)\n",
        "# Введите число: стоп\n",
        "# Итоговый список: [10]\n",
        "```\n",
        "\n"
      ],
      "metadata": {
        "id": "aiWaEPOuoHDS"
      },
      "id": "aiWaEPOuoHDS"
    },
    {
      "cell_type": "code",
      "execution_count": null,
      "id": "31448e09",
      "metadata": {
        "id": "31448e09",
        "colab": {
          "base_uri": "https://localhost:8080/"
        },
        "outputId": "b63b8af6-ca0f-4430-8e02-f8b8e5496a6f"
      },
      "outputs": [
        {
          "output_type": "stream",
          "name": "stdout",
          "text": [
            "Введите число: 70\n",
            "Введите число: 20\n",
            "Введите число: 30\n",
            "Введите число: 77\n",
            "Введите число: vvv\n",
            "(Ошибка: это не число)\n",
            "Введите число: 0\n",
            "Введите число: 8\n",
            "Введите число: 3\n",
            "Введите число: fff\n",
            "(Ошибка: это не число)\n",
            "Введите число: hkk\n",
            "(Ошибка: это не число)\n",
            "Введите число: llfkf\n",
            "(Ошибка: это не число)\n",
            "Введите число: стоп\n",
            "Итоговый список: [70, 20, 30, 77, 0, 8, 3]\n",
            "Введено успешно: 7 чисел\n",
            "Ошибок: 4\n"
          ]
        }
      ],
      "source": [
        "chisla = []\n",
        "praviln = 0\n",
        "ne_praviln = 0\n",
        "while True:\n",
        "  a = input('Введите число: ').strip()\n",
        "  if a.lower() == 'стоп':\n",
        "    break\n",
        "  try:\n",
        "    nomer = int(a)\n",
        "    chisla.append(nomer)\n",
        "    praviln += 1\n",
        "  except ValueError:\n",
        "    ne_praviln += 1\n",
        "    print('(Ошибка: это не число)')\n",
        "print(f'Итоговый список: {chisla}')\n",
        "print(f'Введено успешно: {praviln} чисел')\n",
        "print(f'Ошибок: {ne_praviln}')"
      ]
    },
    {
      "cell_type": "markdown",
      "metadata": {
        "id": "Yv-FNYTEp0vV"
      },
      "source": [
        "---"
      ],
      "id": "Yv-FNYTEp0vV"
    },
    {
      "cell_type": "markdown",
      "id": "5971f85d",
      "metadata": {
        "id": "5971f85d"
      },
      "source": [
        "### **Пункт №3**"
      ]
    },
    {
      "cell_type": "markdown",
      "id": "b1457074",
      "metadata": {
        "id": "b1457074"
      },
      "source": [
        "Создайте функцию `get_list_element(lst, index)`, которая безопасно извлекает элемент списка по индексу с использованием блоков `try`, `except`, `else` и `finally`.\n",
        "\n",
        "Функция должна:\n",
        "- Обрабатывать выход за пределы списка\n",
        "- Обрабатывать некорректный тип индекса\n",
        "- Выводить сообщение о попытке доступа в блоке `finally`\n",
        "\n",
        "**ОБЯЗАТЕЛЬНО:**\n",
        "- Выведите результаты для минимум 4 различных случаев (успешный доступ, выход за границы, отрицательный индекс, нечисловой индекс)\n",
        "- Покажите, что блок `finally` выполняется всегда\n",
        "\n",
        "```python\n",
        "# Пример использования:\n",
        "my_list = [1, 2, 3, 4, 5]\n",
        "get_list_element(my_list, 2)   # Вывод: \"Элемент: 3\", \"Попытка доступа завершена\"\n",
        "get_list_element(my_list, 10)  # Вывод: \"Индекс вне диапазона\", \"Попытка доступа завершена\"\n",
        "```"
      ]
    },
    {
      "cell_type": "code",
      "execution_count": null,
      "id": "1c067cf3",
      "metadata": {
        "id": "1c067cf3",
        "colab": {
          "base_uri": "https://localhost:8080/"
        },
        "outputId": "7c307faf-35c1-420b-dc8e-0b6280a99e9b"
      },
      "outputs": [
        {
          "output_type": "stream",
          "name": "stdout",
          "text": [
            "Элемент: 1\n",
            "Попытка доступа завершена\n"
          ]
        }
      ],
      "source": [
        "def get_list_element(lst,index):\n",
        "  try:\n",
        "    a = lst[index]\n",
        "  except IndexError:\n",
        "    print('Индекс вне диапазона, ')\n",
        "  except TypeError:\n",
        "    print('Индекс не является числом, ')\n",
        "  else:\n",
        "    print(f'Элемент: {a}')\n",
        "  finally:\n",
        "    print('Попытка доступа завершена')\n",
        "chisla = [1, 2, 3, 4, 5]\n",
        "get_list_element(chisla,0)"
      ]
    },
    {
      "cell_type": "code",
      "source": [
        "def get_list_element(lst,index):\n",
        "  try:\n",
        "    a = lst[index]\n",
        "  except IndexError:\n",
        "    print('Индекс вне диапазона, ')\n",
        "  except TypeError:\n",
        "    print('Индекс не является числом, ')\n",
        "  else:\n",
        "    print(f'Элемент: {a}')\n",
        "  finally:\n",
        "    print('Попытка доступа завершена')\n",
        "chisla = [1, 2, 3, 4, 5]\n",
        "get_list_element(chisla,11)"
      ],
      "metadata": {
        "colab": {
          "base_uri": "https://localhost:8080/"
        },
        "id": "VNODpKYv1-dB",
        "outputId": "8069cbf7-b3bb-48cb-a2ea-eecf8661acd5"
      },
      "id": "VNODpKYv1-dB",
      "execution_count": null,
      "outputs": [
        {
          "output_type": "stream",
          "name": "stdout",
          "text": [
            "Индекс вне диапазона, \n",
            "Попытка доступа завершена\n"
          ]
        }
      ]
    },
    {
      "cell_type": "code",
      "source": [
        "def get_list_element(lst,index):\n",
        "  try:\n",
        "    a = lst[index]\n",
        "  except IndexError:\n",
        "    print('Индекс вне диапазона, ')\n",
        "  except TypeError:\n",
        "    print('Индекс не является числом, ')\n",
        "  else:\n",
        "    print(f'Элемент: {a}')\n",
        "  finally:\n",
        "    print('Попытка доступа завершена')\n",
        "chisla = [1, 2, 3, 4, 5]\n",
        "get_list_element(chisla,-3)"
      ],
      "metadata": {
        "colab": {
          "base_uri": "https://localhost:8080/"
        },
        "id": "jaAzraXw1-UX",
        "outputId": "18d67ab3-cc1b-470d-928b-9581ba1840da"
      },
      "id": "jaAzraXw1-UX",
      "execution_count": null,
      "outputs": [
        {
          "output_type": "stream",
          "name": "stdout",
          "text": [
            "Элемент: 3\n",
            "Попытка доступа завершена\n"
          ]
        }
      ]
    },
    {
      "cell_type": "code",
      "source": [
        "def get_list_element(lst,index):\n",
        "  try:\n",
        "    a = lst[index]\n",
        "  except IndexError:\n",
        "    print('Индекс вне диапазона, ')\n",
        "  except TypeError:\n",
        "    print('Индекс не является числом, ')\n",
        "  else:\n",
        "    print(f'Элемент: {a}')\n",
        "  finally:\n",
        "    print('Попытка доступа завершена')\n",
        "chisla = [1, 2, 3, 4, 5]\n",
        "get_list_element(chisla,'не число')"
      ],
      "metadata": {
        "colab": {
          "base_uri": "https://localhost:8080/"
        },
        "id": "08ksU0Vi1-AV",
        "outputId": "69ff1451-0dd6-434a-f8ad-a2af82f52081"
      },
      "id": "08ksU0Vi1-AV",
      "execution_count": null,
      "outputs": [
        {
          "output_type": "stream",
          "name": "stdout",
          "text": [
            "Индекс не является числом, \n",
            "Попытка доступа завершена\n"
          ]
        }
      ]
    },
    {
      "cell_type": "markdown",
      "id": "b5bb39c7",
      "metadata": {
        "id": "b5bb39c7"
      },
      "source": [
        "---"
      ]
    },
    {
      "cell_type": "markdown",
      "id": "b0972d59",
      "metadata": {
        "id": "b0972d59"
      },
      "source": [
        "## **II. Работа с текстовыми файлами**"
      ]
    },
    {
      "cell_type": "markdown",
      "id": "35729435",
      "metadata": {
        "id": "35729435"
      },
      "source": [
        "### **Пункт №1. Запись в файл**"
      ]
    },
    {
      "cell_type": "markdown",
      "id": "3121365f",
      "metadata": {
        "id": "3121365f"
      },
      "source": [
        "Напишите программу, которая запрашивает у пользователя строку и записывает её в файл output.txt в режиме дозаписи.\n",
        "\n",
        "**ОБЯЗАТЕЛЬНО:**\n",
        "- Запросите у пользователя минимум 3 строки\n",
        "- Покажите содержимое файла после записи"
      ]
    },
    {
      "cell_type": "code",
      "execution_count": 6,
      "id": "cbce6c5f",
      "metadata": {
        "id": "cbce6c5f",
        "colab": {
          "base_uri": "https://localhost:8080/"
        },
        "outputId": "53d3b028-19ee-47a1-fef2-3361c66a01f2"
      },
      "outputs": [
        {
          "output_type": "stream",
          "name": "stdout",
          "text": [
            "Введите строку: МИИГАиК\n",
            "Введите строку: питон\n",
            "Введите строку: информатика\n",
            "Введите строку: лекция\n",
            "Введите строку: стоп\n",
            "МИИГАиК\n",
            "питон\n",
            "информатика\n",
            "лекция\n",
            "\n"
          ]
        }
      ],
      "source": [
        "with open('output.txt', 'a', encoding='utf-8') as file:\n",
        "    while True:\n",
        "        m = input(f\"Введите строку: \").strip()\n",
        "\n",
        "        if m.lower() == 'стоп':\n",
        "            break\n",
        "\n",
        "        file.write(m + '\\n')\n",
        "\n",
        "try:\n",
        "    with open('output.txt', 'r', encoding='utf-8') as file:\n",
        "        abs = file.read()\n",
        "        if abs:\n",
        "            print(abs)\n",
        "        else:\n",
        "            print(\"Файл пуст\")\n",
        "except FileNotFoundError:\n",
        "    print(\"Файл не найден\")"
      ]
    },
    {
      "cell_type": "markdown",
      "id": "361b3d2b",
      "metadata": {
        "id": "361b3d2b"
      },
      "source": [
        "---"
      ]
    },
    {
      "cell_type": "markdown",
      "id": "cce864b4",
      "metadata": {
        "id": "cce864b4"
      },
      "source": [
        "### **Пункт №2. Чтение из файла**"
      ]
    },
    {
      "cell_type": "markdown",
      "id": "4fc83b82",
      "metadata": {
        "id": "4fc83b82"
      },
      "source": [
        "Напишите программу, которая открывает файл output.txt и выводит его содержимое на экран.\n",
        "\n",
        "**ОБЯЗАТЕЛЬНО:**\n",
        "- Создайте файл с минимум 5 строками текста\n",
        "- Покажите содержимое файла целиком\n",
        "- Обработайте случай отсутствующего файла"
      ]
    },
    {
      "cell_type": "code",
      "execution_count": 7,
      "id": "df27a986",
      "metadata": {
        "id": "df27a986",
        "colab": {
          "base_uri": "https://localhost:8080/"
        },
        "outputId": "1c267f4c-9b1b-429c-eda9-06ca37e63f55"
      },
      "outputs": [
        {
          "output_type": "stream",
          "name": "stdout",
          "text": [
            "output\n",
            "МИИГАиК\n",
            "питон\n",
            "информатика\n",
            "лекция\n",
            "\n"
          ]
        }
      ],
      "source": [
        "fail = input()\n",
        "try:\n",
        "  with open(f'{fail}.txt', 'r', encoding='utf-8') as file:\n",
        "    a = file.read()\n",
        "    print(a)\n",
        "\n",
        "except FileNotFoundError:\n",
        "  print(f\"ОШИБКА: Файл '{fail}' не найден!\")"
      ]
    },
    {
      "cell_type": "code",
      "source": [
        "fail = input()\n",
        "try:\n",
        "  with open(f'{fail}.txt', 'r', encoding='utf-8') as file:\n",
        "    a = file.read()\n",
        "    print(a)\n",
        "\n",
        "except FileNotFoundError:\n",
        "  print(f\"ОШИБКА: Файл '{fail}' не найден!\")"
      ],
      "metadata": {
        "colab": {
          "base_uri": "https://localhost:8080/"
        },
        "id": "wl6PhFwc5chP",
        "outputId": "6591f3bd-cafd-4c98-9e71-d16dd8a44655"
      },
      "id": "wl6PhFwc5chP",
      "execution_count": null,
      "outputs": [
        {
          "output_type": "stream",
          "name": "stdout",
          "text": [
            "бабуин\n",
            "ОШИБКА: Файл 'бабуин' не найден!\n"
          ]
        }
      ]
    },
    {
      "cell_type": "markdown",
      "id": "2be296a2",
      "metadata": {
        "id": "2be296a2"
      },
      "source": [
        "---"
      ]
    },
    {
      "cell_type": "markdown",
      "id": "045696ba",
      "metadata": {
        "id": "045696ba"
      },
      "source": [
        "### **Пункт №3. Подсчет строк в файле**"
      ]
    },
    {
      "cell_type": "markdown",
      "id": "570ac3e9",
      "metadata": {
        "id": "570ac3e9"
      },
      "source": [
        "Напишите программу, которая открывает файл output.txt и подсчитывает количество строк в нём.\n",
        "\n",
        "**ОБЯЗАТЕЛЬНО:**\n",
        "- Создайте тестовый файл с известным количеством строк (минимум 10)\n",
        "- Покажите первые 3 строки файла\n",
        "- Выведите общее количество строк\n",
        "- Выведите количество непустых строк"
      ]
    },
    {
      "cell_type": "code",
      "execution_count": 10,
      "id": "84aa205a",
      "metadata": {
        "id": "84aa205a",
        "colab": {
          "base_uri": "https://localhost:8080/"
        },
        "outputId": "a4a38b6a-3c9c-4c1a-a428-2148379654cb"
      },
      "outputs": [
        {
          "output_type": "stream",
          "name": "stdout",
          "text": [
            "МИИГАиК\n",
            "питон\n",
            "информатика\n",
            "Общее кол-во строк в файле: 5\n",
            "Кол-во непустых строк: 4\n"
          ]
        }
      ],
      "source": [
        "with open('output.txt', 'r', encoding='utf-8') as file:\n",
        "  kolv_str = file.readlines()\n",
        "  tri_str = file.readlines()[:3]\n",
        "  nepust_str = [x for x in kolv_str if x.strip()]\n",
        "  for i in range(3):\n",
        "    print(kolv_str[i].rstrip())\n",
        "  print(f\"Общее кол-во строк в файле: {len(kolv_str)+1}\")\n",
        "  print(f\"Кол-во непустых строк: {len(nepust_str)}\")"
      ]
    },
    {
      "cell_type": "markdown",
      "id": "94c6dcb0",
      "metadata": {
        "id": "94c6dcb0"
      },
      "source": [
        "---"
      ]
    },
    {
      "cell_type": "markdown",
      "id": "56f2a74e",
      "metadata": {
        "id": "56f2a74e"
      },
      "source": [
        "### **Пункт №4. Копирование содержимого файла**"
      ]
    },
    {
      "cell_type": "markdown",
      "id": "ed736046",
      "metadata": {
        "id": "ed736046"
      },
      "source": [
        "Напишите программу, которая копирует содержимое файла input.txt в файл output.txt.\n",
        "\n",
        "**ОБЯЗАТЕЛЬНО:**\n",
        "- Создайте исходный файл с тестовым содержимым (минимум 5 строк)\n",
        "- Покажите содержимое исходного файла\n",
        "- Выполните копирование\n",
        "- Покажите содержимое скопированного файла\n",
        "- Обработайте случай отсутствия исходного файла"
      ]
    },
    {
      "cell_type": "code",
      "execution_count": 13,
      "id": "31bd8a06",
      "metadata": {
        "id": "31bd8a06",
        "colab": {
          "base_uri": "https://localhost:8080/"
        },
        "outputId": "9da7a6f6-f930-4ca2-963d-1f511c3e86bb"
      },
      "outputs": [
        {
          "output_type": "stream",
          "name": "stdout",
          "text": [
            "input\n",
            "1 строка\n",
            "2 строка\n",
            "3 строка\n",
            "4 строка\n",
            "5 строка\n",
            "\n",
            "МИИГАиК\n",
            "питон\n",
            "информатика\n",
            "лекция\n",
            "\n"
          ]
        }
      ],
      "source": [
        "a = input()\n",
        "try:\n",
        "  with open(f'{a}.txt', 'r', encoding='utf-8') as file:\n",
        "    m = file.read()\n",
        "    print(m)\n",
        "  with open('output.txt', 'r', encoding='utf-8') as file:\n",
        "    content = file.read()\n",
        "  with open('output.txt', 'a', encoding='utf-8') as file:\n",
        "    z = file.write(m)\n",
        "    print(content)\n",
        "except FileNotFoundError:\n",
        "  print('Файл не найден')"
      ]
    },
    {
      "cell_type": "code",
      "source": [
        "a = input()\n",
        "try:\n",
        "  with open(f'{a}.txt', 'r', encoding='utf-8') as file:\n",
        "    m = file.read()\n",
        "    print(m)\n",
        "  with open('output.txt', 'r', encoding='utf-8') as file:\n",
        "    content = file.read()\n",
        "  with open('output.txt', 'a', encoding='utf-8') as file:\n",
        "    z = file.write(m)\n",
        "    print(content)\n",
        "except FileNotFoundError:\n",
        "  print('Файл не найден')"
      ],
      "metadata": {
        "id": "ZyPFd9Uv_rpm",
        "outputId": "bc634016-82b8-4698-ded8-2cbea9ce05cc",
        "colab": {
          "base_uri": "https://localhost:8080/"
        }
      },
      "id": "ZyPFd9Uv_rpm",
      "execution_count": 12,
      "outputs": [
        {
          "output_type": "stream",
          "name": "stdout",
          "text": [
            "файл 1\n",
            "Файл не найден\n"
          ]
        }
      ]
    },
    {
      "cell_type": "markdown",
      "id": "2f7c8ee5",
      "metadata": {
        "id": "2f7c8ee5"
      },
      "source": [
        "---"
      ]
    },
    {
      "cell_type": "markdown",
      "id": "70ee398b",
      "metadata": {
        "id": "70ee398b"
      },
      "source": [
        "### **Пункт №5. Поиск слова в файле**"
      ]
    },
    {
      "cell_type": "markdown",
      "id": "c67f8987",
      "metadata": {
        "id": "c67f8987"
      },
      "source": [
        "Напишите программу, которая открывает файл output.txt и проверяет, содержится ли в нём слово, введённое пользователем.\n",
        "\n",
        "**ОБЯЗАТЕЛЬНО:**\n",
        "- Создайте файл с минимум 10 строками текста\n",
        "- Покажите содержимое файла\n",
        "- Протестируйте поиск минимум 5 различных слов\n",
        "- Выведите номера строк, где найдено слово\n",
        "- Покажите количество вхождений слова"
      ]
    },
    {
      "cell_type": "code",
      "execution_count": 14,
      "id": "d961bbf3",
      "metadata": {
        "id": "d961bbf3",
        "colab": {
          "base_uri": "https://localhost:8080/"
        },
        "outputId": "acea0dd1-314c-4e93-91ca-8fb0471fb40f"
      },
      "outputs": [
        {
          "output_type": "stream",
          "name": "stdout",
          "text": [
            "МИИГАиК\n",
            "питон\n",
            "информатика\n",
            "лекция\n",
            "1 строка\n",
            "2 строка\n",
            "3 строка\n",
            "4 строка\n",
            "5 строка\n",
            "\n",
            "питон\n",
            "Найдено в строках: 2\n",
            "Количество вхождений: 1\n"
          ]
        }
      ],
      "source": [
        "with open('output.txt', 'r', encoding='utf-8') as file:\n",
        "        lines = file.readlines()\n",
        "try:\n",
        "    with open('output.txt', 'r', encoding='utf-8') as file:\n",
        "        a = file.read()\n",
        "        print(a)\n",
        "except FileNotFoundError:\n",
        "    print(f\"Файл '{a}' не найден.\")\n",
        "\n",
        "h = input().split()\n",
        "\n",
        "for z in h:\n",
        "    found_line = []\n",
        "    count = 0\n",
        "    try:\n",
        "        with open('output.txt', 'r', encoding='utf-8') as file:\n",
        "            for nomer, line in enumerate(file, 1):\n",
        "                if z in line:\n",
        "                    found_line.append(nomer)\n",
        "                    count += line.count(z)\n",
        "\n",
        "        if found_line:\n",
        "            print(f\"Найдено в строках: {', '.join(map(str, found_line))}\")\n",
        "            print(f\"Количество вхождений: {count}\")\n",
        "        else:\n",
        "            print(\"Слово не найдено.\")\n",
        "\n",
        "    except FileNotFoundError:\n",
        "        print(f\"ОШИБКА: Файл не найден!\")"
      ]
    },
    {
      "cell_type": "code",
      "source": [
        "with open('output.txt', 'r', encoding='utf-8') as file:\n",
        "        lines = file.readlines()\n",
        "try:\n",
        "    with open('output.txt', 'r', encoding='utf-8') as file:\n",
        "        a = file.read()\n",
        "        print(a)\n",
        "except FileNotFoundError:\n",
        "    print(f\"Файл '{a}' не найден.\")\n",
        "\n",
        "h = input().split()\n",
        "\n",
        "for z in h:\n",
        "    found_line = []\n",
        "    count = 0\n",
        "    try:\n",
        "        with open('output.txt', 'r', encoding='utf-8') as file:\n",
        "            for nomer, line in enumerate(file, 1):\n",
        "                if z in line:\n",
        "                    found_line.append(nomer)\n",
        "                    count += line.count(z)\n",
        "\n",
        "        if found_line:\n",
        "            print(f\"Найдено в строках: {', '.join(map(str, found_line))}\")\n",
        "            print(f\"Количество вхождений: {count}\")\n",
        "        else:\n",
        "            print(\"Слово не найдено.\")\n",
        "\n",
        "    except FileNotFoundError:\n",
        "        print(f\"ОШИБКА: Файл не найден!\")"
      ],
      "metadata": {
        "id": "CNhklK3Kd7Ts",
        "outputId": "998f9a63-4121-4db0-cecc-511db1ec865a",
        "colab": {
          "base_uri": "https://localhost:8080/"
        }
      },
      "id": "CNhklK3Kd7Ts",
      "execution_count": 15,
      "outputs": [
        {
          "output_type": "stream",
          "name": "stdout",
          "text": [
            "МИИГАиК\n",
            "питон\n",
            "информатика\n",
            "лекция\n",
            "1 строка\n",
            "2 строка\n",
            "3 строка\n",
            "4 строка\n",
            "5 строка\n",
            "\n",
            "МИИГАиК\n",
            "Найдено в строках: 1\n",
            "Количество вхождений: 1\n"
          ]
        }
      ]
    },
    {
      "cell_type": "code",
      "source": [
        "with open('output.txt', 'r', encoding='utf-8') as file:\n",
        "        lines = file.readlines()\n",
        "try:\n",
        "    with open('output.txt', 'r', encoding='utf-8') as file:\n",
        "        a = file.read()\n",
        "        print(a)\n",
        "except FileNotFoundError:\n",
        "    print(f\"Файл '{a}' не найден.\")\n",
        "\n",
        "h = input().split()\n",
        "\n",
        "for z in h:\n",
        "    found_line = []\n",
        "    count = 0\n",
        "    try:\n",
        "        with open('output.txt', 'r', encoding='utf-8') as file:\n",
        "            for nomer, line in enumerate(file, 1):\n",
        "                if z in line:\n",
        "                    found_line.append(nomer)\n",
        "                    count += line.count(z)\n",
        "\n",
        "        if found_line:\n",
        "            print(f\"Найдено в строках: {', '.join(map(str, found_line))}\")\n",
        "            print(f\"Количество вхождений: {count}\")\n",
        "        else:\n",
        "            print(\"Слово не найдено.\")\n",
        "\n",
        "    except FileNotFoundError:\n",
        "        print(f\"ОШИБКА: Файл не найден!\")"
      ],
      "metadata": {
        "id": "OL8k3wVTeBe4",
        "outputId": "bdf1b8dc-ad17-44a6-cc23-40f2d5eea687",
        "colab": {
          "base_uri": "https://localhost:8080/"
        }
      },
      "id": "OL8k3wVTeBe4",
      "execution_count": 16,
      "outputs": [
        {
          "output_type": "stream",
          "name": "stdout",
          "text": [
            "МИИГАиК\n",
            "питон\n",
            "информатика\n",
            "лекция\n",
            "1 строка\n",
            "2 строка\n",
            "3 строка\n",
            "4 строка\n",
            "5 строка\n",
            "\n",
            "1 строка\n",
            "Найдено в строках: 5\n",
            "Количество вхождений: 1\n",
            "Найдено в строках: 5, 6, 7, 8, 9\n",
            "Количество вхождений: 5\n"
          ]
        }
      ]
    },
    {
      "cell_type": "code",
      "source": [
        "with open('output.txt', 'r', encoding='utf-8') as file:\n",
        "        lines = file.readlines()\n",
        "try:\n",
        "    with open('output.txt', 'r', encoding='utf-8') as file:\n",
        "        a = file.read()\n",
        "        print(a)\n",
        "except FileNotFoundError:\n",
        "    print(f\"Файл '{a}' не найден.\")\n",
        "\n",
        "h = input().split()\n",
        "\n",
        "for z in h:\n",
        "    found_line = []\n",
        "    count = 0\n",
        "    try:\n",
        "        with open('output.txt', 'r', encoding='utf-8') as file:\n",
        "            for nomer, line in enumerate(file, 1):\n",
        "                if z in line:\n",
        "                    found_line.append(nomer)\n",
        "                    count += line.count(z)\n",
        "\n",
        "        if found_line:\n",
        "            print(f\"Найдено в строках: {', '.join(map(str, found_line))}\")\n",
        "            print(f\"Количество вхождений: {count}\")\n",
        "        else:\n",
        "            print(\"Слово не найдено.\")\n",
        "\n",
        "    except FileNotFoundError:\n",
        "        print(f\"ОШИБКА: Файл не найден!\")"
      ],
      "metadata": {
        "id": "I3sx6zEteBUi",
        "outputId": "a5cac890-0ce3-4149-decb-a984d7098ebc",
        "colab": {
          "base_uri": "https://localhost:8080/"
        }
      },
      "id": "I3sx6zEteBUi",
      "execution_count": 17,
      "outputs": [
        {
          "output_type": "stream",
          "name": "stdout",
          "text": [
            "МИИГАиК\n",
            "питон\n",
            "информатика\n",
            "лекция\n",
            "1 строка\n",
            "2 строка\n",
            "3 строка\n",
            "4 строка\n",
            "5 строка\n",
            "\n",
            "лекция\n",
            "Найдено в строках: 4\n",
            "Количество вхождений: 1\n"
          ]
        }
      ]
    },
    {
      "cell_type": "code",
      "source": [
        "with open('output.txt', 'r', encoding='utf-8') as file:\n",
        "        lines = file.readlines()\n",
        "try:\n",
        "    with open('output.txt', 'r', encoding='utf-8') as file:\n",
        "        a = file.read()\n",
        "        print(a)\n",
        "except FileNotFoundError:\n",
        "    print(f\"Файл '{a}' не найден.\")\n",
        "\n",
        "h = input().split()\n",
        "\n",
        "for z in h:\n",
        "    found_line = []\n",
        "    count = 0\n",
        "    try:\n",
        "        with open('output.txt', 'r', encoding='utf-8') as file:\n",
        "            for nomer, line in enumerate(file, 1):\n",
        "                if z in line:\n",
        "                    found_line.append(nomer)\n",
        "                    count += line.count(z)\n",
        "\n",
        "        if found_line:\n",
        "            print(f\"Найдено в строках: {', '.join(map(str, found_line))}\")\n",
        "            print(f\"Количество вхождений: {count}\")\n",
        "        else:\n",
        "            print(\"Слово не найдено.\")\n",
        "\n",
        "    except FileNotFoundError:\n",
        "        print(f\"ОШИБКА: Файл не найден!\")"
      ],
      "metadata": {
        "id": "p8pzwz-leBCx",
        "outputId": "66bcffa9-d398-451b-8ed2-63680bd635e2",
        "colab": {
          "base_uri": "https://localhost:8080/"
        }
      },
      "id": "p8pzwz-leBCx",
      "execution_count": 18,
      "outputs": [
        {
          "output_type": "stream",
          "name": "stdout",
          "text": [
            "МИИГАиК\n",
            "питон\n",
            "информатика\n",
            "лекция\n",
            "1 строка\n",
            "2 строка\n",
            "3 строка\n",
            "4 строка\n",
            "5 строка\n",
            "\n",
            "информатика\n",
            "Найдено в строках: 3\n",
            "Количество вхождений: 1\n"
          ]
        }
      ]
    },
    {
      "cell_type": "markdown",
      "id": "8d69c77a",
      "metadata": {
        "id": "8d69c77a"
      },
      "source": [
        "---"
      ]
    },
    {
      "cell_type": "markdown",
      "id": "0079e067",
      "metadata": {
        "id": "0079e067"
      },
      "source": [
        "### **Пункт №6. Чтение файла с обработкой FileNotFoundError**"
      ]
    },
    {
      "cell_type": "markdown",
      "id": "c3d27312",
      "metadata": {
        "id": "c3d27312"
      },
      "source": [
        "Напишите программу, которая запрашивает у пользователя имя файла и пытается открыть его. Если файла не существует, перехватите FileNotFoundError и выведите сообщение «Файл не найден!».\n",
        "\n",
        "**ОБЯЗАТЕЛЬНО:**\n",
        "- Протестируйте с существующим файлом\n",
        "- Протестируйте с несуществующим файлом\n",
        "- Покажите содержимое существующего файла"
      ]
    },
    {
      "cell_type": "code",
      "execution_count": 19,
      "id": "0c262bd2",
      "metadata": {
        "id": "0c262bd2",
        "outputId": "047af1cd-5d1e-4f6b-96b3-992693d8805a",
        "colab": {
          "base_uri": "https://localhost:8080/"
        }
      },
      "outputs": [
        {
          "output_type": "stream",
          "name": "stdout",
          "text": [
            "input\n",
            "1 строка\n",
            "2 строка\n",
            "3 строка\n",
            "4 строка\n",
            "5 строка\n",
            "\n"
          ]
        }
      ],
      "source": [
        "a = input()\n",
        "try:\n",
        "  with open(f'{a}.txt', 'r', encoding='utf-8') as file:\n",
        "      lines = file.readlines()\n",
        "  with open(f'{a}.txt', 'r', encoding='utf-8') as file:\n",
        "      b = file.read()\n",
        "      print(b)\n",
        "except FileNotFoundError:\n",
        "    print(f\"Файл '{a}' не найден.\")"
      ]
    },
    {
      "cell_type": "code",
      "source": [
        "a = input()\n",
        "try:\n",
        "  with open(f'{a}.txt', 'r', encoding='utf-8') as file:\n",
        "      lines = file.readlines()\n",
        "  with open(f'{a}.txt', 'r', encoding='utf-8') as file:\n",
        "      b = file.read()\n",
        "      print(b)\n",
        "except FileNotFoundError:\n",
        "    print(f\"Файл '{a}' не найден.\")"
      ],
      "metadata": {
        "id": "RZBkB8ape8Db",
        "outputId": "fc0ccf03-a220-43e5-93b0-3985117aca30",
        "colab": {
          "base_uri": "https://localhost:8080/"
        }
      },
      "id": "RZBkB8ape8Db",
      "execution_count": 20,
      "outputs": [
        {
          "output_type": "stream",
          "name": "stdout",
          "text": [
            "fjjdmd\n",
            "Файл 'fjjdmd' не найден.\n"
          ]
        }
      ]
    },
    {
      "cell_type": "markdown",
      "id": "c3258b46",
      "metadata": {
        "id": "c3258b46"
      },
      "source": [
        "---"
      ]
    },
    {
      "cell_type": "markdown",
      "id": "02e0767b",
      "metadata": {
        "id": "02e0767b"
      },
      "source": [
        "### **Пункт №7. Подсчет статистики файла**"
      ]
    },
    {
      "cell_type": "markdown",
      "id": "1c33b711",
      "metadata": {
        "id": "1c33b711"
      },
      "source": [
        "Напишите функцию `file_statistics(filename)`, которая читает текстовый файл и возвращает словарь со статистикой:\n",
        "- Количество строк\n",
        "- Количество слов\n",
        "- Количество символов (с пробелами и без)\n",
        "\n",
        "**ОБЯЗАТЕЛЬНО:**\n",
        "- Создайте тестовый файл с минимум 5 строками текста\n",
        "- Выведите содержимое файла ДО обработки\n",
        "- Выведите полученную статистику\n",
        "- Обработайте случай несуществующего файла\n",
        "\n",
        "```python\n",
        "# Создание тестового файла\n",
        "test_content = \"\"\"Первая строка текста\n",
        "Вторая строка с большим количеством слов\n",
        "Третья строка\n",
        "Четвертая строка для теста\n",
        "Пятая и последняя строка\"\"\"\n",
        "\n",
        "# Сохраните в файл и продемонстрируйте работу\n",
        "```"
      ]
    },
    {
      "cell_type": "code",
      "execution_count": 21,
      "id": "43bfd6b8",
      "metadata": {
        "id": "43bfd6b8",
        "outputId": "cc790049-f067-4fff-f8f1-d99c44ff22fb",
        "colab": {
          "base_uri": "https://localhost:8080/"
        }
      },
      "outputs": [
        {
          "output_type": "stream",
          "name": "stdout",
          "text": [
            "Первая строка текста\n",
            "Вторая строка с большим количеством слов\n",
            "Третья строка\n",
            "Четвертая строка для теста\n",
            "Пятая и последняя строка\n",
            "Количество строк: 5\n",
            "Количество слов: 19\n",
            "Количество символов (с пробелами): 127\n",
            "Количество символов (без пробелов): 109\n"
          ]
        }
      ],
      "source": [
        "test_content = \"\"\"Первая строка текста\n",
        "Вторая строка с большим количеством слов\n",
        "Третья строка\n",
        "Четвертая строка для теста\n",
        "Пятая и последняя строка\"\"\"\n",
        "\n",
        "with open('fff.txt', 'w', encoding='utf-8') as f:\n",
        "    f.write(test_content)\n",
        "\n",
        "with open('fff.txt', 'r', encoding='utf-8') as f:\n",
        "    print(f.read())\n",
        "\n",
        "\n",
        "def file_statistics(filename):\n",
        "    stata = {'Количество строк': 0,'Количество слов': 0,'Количество символов (с пробелами)': 0,'Количество символов (без пробелов)': 0}\n",
        "    try:\n",
        "        with open(filename, 'r', encoding='utf-8') as file:\n",
        "            for line in file:\n",
        "                stata['Количество строк'] += 1\n",
        "                stata['Количество символов (с пробелами)'] += len(line)\n",
        "                stata['Количество символов (без пробелов)'] += len(line.replace(\" \", \"\").strip())\n",
        "                words = line.split()\n",
        "                stata['Количество слов'] += len(words)\n",
        "        return stata\n",
        "    except FileNotFoundError:\n",
        "        return f\"Файл '{filename}' не найден!\"\n",
        "\n",
        "perem = file_statistics('fff.txt')\n",
        "if isinstance(perem, dict):\n",
        "    for key, value in perem.items():\n",
        "        print(f\"{key}: {value}\")\n",
        "else:\n",
        "    print(perem)\n",
        ""
      ]
    },
    {
      "cell_type": "code",
      "source": [
        "test_content = \"\"\"Первая строка текста\n",
        "Вторая строка с большим количеством слов\n",
        "Третья строка\n",
        "Четвертая строка для теста\n",
        "Пятая и последняя строка\"\"\"\n",
        "\n",
        "with open('fff.txt', 'w', encoding='utf-8') as f:\n",
        "    f.write(test_content)\n",
        "\n",
        "with open('fff.txt', 'r', encoding='utf-8') as f:\n",
        "    print(f.read())\n",
        "\n",
        "\n",
        "def file_statistics(filename):\n",
        "    stata = {'Количество строк': 0,'Количество слов': 0,'Количество символов (с пробелами)': 0,'Количество символов (без пробелов)': 0}\n",
        "    try:\n",
        "        with open(filename, 'r', encoding='utf-8') as file:\n",
        "            for line in file:\n",
        "                stata['Количество строк'] += 1\n",
        "                stata['Количество символов (с пробелами)'] += len(line)\n",
        "                stata['Количество символов (без пробелов)'] += len(line.replace(\" \", \"\").strip())\n",
        "                words = line.split()\n",
        "                stata['Количество слов'] += len(words)\n",
        "        return stata\n",
        "    except FileNotFoundError:\n",
        "        return f\"Файл '{filename}' не найден!\"\n",
        "\n",
        "nekatit = file_statistics('chtotakoe.txt')\n",
        "print(nekatit)"
      ],
      "metadata": {
        "id": "9YRTyI8nf51x",
        "outputId": "9fb5f956-9bd0-49e3-89aa-96b6b9cb0c56",
        "colab": {
          "base_uri": "https://localhost:8080/"
        }
      },
      "id": "9YRTyI8nf51x",
      "execution_count": 22,
      "outputs": [
        {
          "output_type": "stream",
          "name": "stdout",
          "text": [
            "Первая строка текста\n",
            "Вторая строка с большим количеством слов\n",
            "Третья строка\n",
            "Четвертая строка для теста\n",
            "Пятая и последняя строка\n",
            "Файл 'chtotakoe.txt' не найден!\n"
          ]
        }
      ]
    },
    {
      "cell_type": "markdown",
      "id": "903281dd",
      "metadata": {
        "id": "903281dd"
      },
      "source": [
        "---"
      ]
    },
    {
      "cell_type": "markdown",
      "id": "ad8b4ae4",
      "metadata": {
        "id": "ad8b4ae4"
      },
      "source": [
        "### **Пункт №8. Поиск и замена в файле**"
      ]
    },
    {
      "cell_type": "markdown",
      "id": "e5230d0a",
      "metadata": {
        "id": "e5230d0a"
      },
      "source": [
        "Напишите функцию `replace_in_file(filename, old_text, new_text)`, которая заменяет все вхождения `old_text` на `new_text` в файле и сохраняет результат в новый файл с префиксом \"modified_\".\n",
        "\n",
        "**ОБЯЗАТЕЛЬНО:**\n",
        "- Создайте файл с текстом, содержащим минимум 3 вхождения заменяемого слова\n",
        "- Выведите содержимое файла ДО замены\n",
        "- Выполните замену\n",
        "- Выведите содержимое файла ПОСЛЕ замены\n",
        "- Покажите количество произведенных замен"
      ]
    },
    {
      "cell_type": "code",
      "execution_count": 23,
      "id": "64a05e35",
      "metadata": {
        "id": "64a05e35",
        "outputId": "62ee89df-7f73-423c-c160-29eea2b7798f",
        "colab": {
          "base_uri": "https://localhost:8080/"
        }
      },
      "outputs": [
        {
          "output_type": "stream",
          "name": "stdout",
          "text": [
            "Босс, я устал...\n",
            "Я очень устал, устал это делать...\n",
            "Произведено замен: 3\n",
            "Босс, я прочерк...\n",
            "Я очень прочерк, прочерк это делать...\n"
          ]
        }
      ],
      "source": [
        "def replace_in_file(filename, old_text, new_text):\n",
        "    try:\n",
        "        with open(filename, 'r', encoding='utf-8') as file:\n",
        "            m = file.read()\n",
        "\n",
        "        modified_m = m.replace(old_text, new_text)\n",
        "        perestanovka = m.count(old_text)\n",
        "\n",
        "        modified_filename = \"modified_\" + filename\n",
        "        with open(modified_filename, 'w', encoding='utf-8') as file:\n",
        "            file.write(modified_m)\n",
        "\n",
        "        return perestanovka, modified_filename\n",
        "\n",
        "    except FileNotFoundError:\n",
        "        return 0, f\"Файл '{filename}' не найден!\"\n",
        "\n",
        "\n",
        "test_text = \"\"\"Босс, я устал...\n",
        "Я очень устал, устал это делать...\"\"\"\n",
        "\n",
        "tekst = \"replace_test.txt\"\n",
        "with open(tekst, 'w', encoding='utf-8') as f:\n",
        "    f.write(test_text)\n",
        "\n",
        "with open(tekst, 'r', encoding='utf-8') as f:\n",
        "    print(f.read())\n",
        "\n",
        "old_word = \"устал\"\n",
        "new_word = \"прочерк\"\n",
        "count, modified_file = replace_in_file(tekst, old_word, new_word)\n",
        "\n",
        "if isinstance(count, int):\n",
        "    print(f\"Произведено замен: {count}\")\n",
        "    with open(modified_file, 'r', encoding='utf-8') as f:\n",
        "        print(f.read())\n",
        "else:\n",
        "    print(modified_file)"
      ]
    },
    {
      "cell_type": "markdown",
      "id": "f77b0568",
      "metadata": {
        "id": "f77b0568"
      },
      "source": [
        "---"
      ]
    },
    {
      "cell_type": "markdown",
      "id": "79a081b1",
      "metadata": {
        "id": "79a081b1"
      },
      "source": [
        "### **Пункт №9. Объединение файлов**"
      ]
    },
    {
      "cell_type": "markdown",
      "id": "599cee3c",
      "metadata": {
        "id": "599cee3c"
      },
      "source": [
        "Создайте функцию `merge_files(file_list, output_file)`, которая объединяет содержимое нескольких текстовых файлов в один, добавляя после каждого разделитель.\n",
        "\n",
        "**ОБЯЗАТЕЛЬНО:**\n",
        "- Создайте минимум 3 файла с разным содержимым\n",
        "- Выведите содержимое КАЖДОГО исходного файла\n",
        "- Выполните объединение\n",
        "- Выведите содержимое результирующего файла"
      ]
    },
    {
      "cell_type": "code",
      "execution_count": 25,
      "id": "581b5868",
      "metadata": {
        "id": "581b5868",
        "outputId": "08d3b5e2-0bcd-4483-e6de-123c65510c6c",
        "colab": {
          "base_uri": "https://localhost:8080/"
        }
      },
      "outputs": [
        {
          "output_type": "stream",
          "name": "stdout",
          "text": [
            "набор\n",
            "каких-то\n",
            "букв\n",
            "Файлы успешно объединены в 'xxxxxxxx.txt'\n",
            "набор/каких-то/букв\n"
          ]
        }
      ],
      "source": [
        "def merge_files(file_list, output_file, separator=\"/\"):\n",
        "  with open(output_file, 'w', encoding='utf-8') as f:\n",
        "    for i, filename in enumerate(file_list):\n",
        "      with open(filename, 'r', encoding='utf-8') as m:\n",
        "        f.write(m.read())\n",
        "      if i < len(file_list) - 1:\n",
        "        f.write(separator)\n",
        "  return f\"Файлы успешно объединены в '{output_file}'\"\n",
        "\n",
        "file1 = \"набор\"\n",
        "file2 = \"каких-то\"\n",
        "file3 = \"букв\"\n",
        "\n",
        "with open('file1.txt', 'w+', encoding='utf-8') as f:\n",
        "    f.write(file1)\n",
        "    f.seek(0)\n",
        "    a = f.read()\n",
        "    print(a)\n",
        "with open('file2.txt', 'w+', encoding='utf-8') as f:\n",
        "    f.write(file2)\n",
        "    f.seek(0)\n",
        "    a = f.read()\n",
        "    print(a)\n",
        "with open('file3.txt', 'w+', encoding='utf-8') as f:\n",
        "    f.write(file3)\n",
        "    f.seek(0)\n",
        "    a = f.read()\n",
        "    print(a)\n",
        "\n",
        "\n",
        "vmeste = ['file1.txt', 'file2.txt', 'file3.txt']\n",
        "fullvmeste = 'xxxxxxxx.txt'\n",
        "result_message = merge_files(vmeste, fullvmeste)\n",
        "print(result_message)\n",
        "\n",
        "\n",
        "try:\n",
        "    with open(fullvmeste, 'r', encoding='utf-8') as f:\n",
        "        print(f.read())\n",
        "except FileNotFoundError:\n",
        "    print(f\"Файл '{fullvmeste}' не найден.\")"
      ]
    },
    {
      "cell_type": "markdown",
      "id": "eb866091",
      "metadata": {
        "id": "eb866091"
      },
      "source": [
        "---"
      ]
    }
  ],
  "metadata": {
    "colab": {
      "provenance": [],
      "include_colab_link": true
    },
    "language_info": {
      "name": "python"
    },
    "kernelspec": {
      "name": "python3",
      "display_name": "Python 3"
    }
  },
  "nbformat": 4,
  "nbformat_minor": 5
}